{
 "cells": [
  {
   "cell_type": "markdown",
   "id": "669d2d45",
   "metadata": {},
   "source": [
    "# Import the libraries to get started"
   ]
  },
  {
   "cell_type": "code",
   "execution_count": null,
   "id": "1727fd36",
   "metadata": {},
   "outputs": [],
   "source": [
    "# Importing the required libraries\n",
    "import os\n",
    "import pandas as pd\n",
    "import matplotlib.pyplot as plt\n",
    "from itertools import combinations\n",
    "from collections import Counter"
   ]
  },
  {
   "cell_type": "markdown",
   "id": "b2e897e5",
   "metadata": {},
   "source": [
    "# Prepare the data set for analysis"
   ]
  },
  {
   "cell_type": "code",
   "execution_count": null,
   "id": "65653522",
   "metadata": {},
   "outputs": [],
   "source": [
    "# Preparing the data set for analysis\n",
    "path = \"C:/Users/SW/Downloads/datasets/Sales_Data\"\n",
    "files = [file for file in os.listdir(path) if not file.startswith('.')]  # Ignore the hidden files\n",
    "\n",
    "all_months_data = pd.DataFrame()\n",
    "\n",
    "for file in files:\n",
    "    current_data = pd.read_csv(path + \"/\" + file)\n",
    "    all_months_data = pd.concat([all_months_data, current_data])\n",
    "\n",
    "all_months_data.to_csv(\"yearly_data_2019.csv\", index=False)"
   ]
  },
  {
   "cell_type": "markdown",
   "id": "1600566f",
   "metadata": {},
   "source": [
    "# Read the dataframe"
   ]
  },
  {
   "cell_type": "code",
   "execution_count": null,
   "id": "d92664ac",
   "metadata": {},
   "outputs": [],
   "source": [
    "# Read the dataframe\n",
    "data = pd.read_csv('yearly_data_2019.csv')\n",
    "data.head()"
   ]
  },
  {
   "cell_type": "markdown",
   "id": "33e43a4e",
   "metadata": {},
   "source": [
    "# CLEAN THE DATA FOR ANALYSIS"
   ]
  },
  {
   "cell_type": "code",
   "execution_count": null,
   "id": "fb57f331",
   "metadata": {},
   "outputs": [],
   "source": [
    "# CLEAN THE DATA\n",
    "# Find NAN\n",
    "nan_df = data[data.isna().any(axis=1)]\n",
    "# print(nan_df.head())\n",
    "\n",
    "# Drop the NaN columns\n",
    "data = data.dropna(how='all')\n",
    "\n",
    "# Change the format of the order date column to datetime format\n",
    "data = data[data['Order Date'].str[0:2] != 'Or']\n",
    "data['Order Date'] = pd.to_datetime(data['Order Date'])\n",
    "\n",
    "# Make columns correct type\n",
    "data['Quantity Ordered'] = pd.to_numeric(data['Quantity Ordered'])\n",
    "data['Price Each'] = pd.to_numeric(data['Price Each'])"
   ]
  },
  {
   "cell_type": "code",
   "execution_count": null,
   "id": "72963f30",
   "metadata": {},
   "outputs": [],
   "source": [
    "# Add a column\n",
    "data['Month'] = data['Order Date'].dt.month\n",
    "data['Hour'] = data['Order Date'].dt.hour\n",
    "\n",
    "# Add a city column\n",
    "def get_city(address):\n",
    "    return address.split(',')[1].strip(' ')\n",
    "\n",
    "\n",
    "def get_state(address):\n",
    "    return address.split(',')[2].split(' ')[1]\n",
    "\n",
    "\n",
    "data['City'] = data['Purchase Address'].apply(lambda x: f'{get_city(x)}  {get_state(x)}')\n",
    "\n",
    "# Add a sales column to find money earned by selling different products\n",
    "data['Sales'] = data['Quantity Ordered'].astype('int') * data['Price Each'].astype('float')\n",
    "data.head()"
   ]
  },
  {
   "cell_type": "markdown",
   "id": "fee7d482",
   "metadata": {},
   "source": [
    "# NOW LETS GET STARTED WITH THE DATA EXTRACTION PART\n"
   ]
  },
  {
   "cell_type": "code",
   "execution_count": null,
   "id": "5f11b6cd",
   "metadata": {},
   "outputs": [],
   "source": [
    "# Question 1:What month had the maximum sales\n",
    "# plot the graph to compare sale of all the months\n",
    "months = ['January', 'February', 'March', 'April', 'May', 'June', 'July', 'August', 'September', 'October', 'November', 'December']\n",
    "new_colors = ['violet', 'indigo', 'blue', 'green', 'yellow', 'orange', 'red', 'maroon', 'gray', 'silver', 'gold', 'brown']\n",
    "\n",
    "plt.bar(months, data.groupby('Month').sum()['Sales'], color=new_colors, width=0.8, edgecolor='black')\n",
    "plt.title('Graph for the sales done in all months of 2019', size=14)\n",
    "plt.xticks(months, rotation='vertical', size=8)\n",
    "plt.xlabel('Month Name', size=14)\n",
    "plt.ylabel('Sales amount in millions(USD $)', size=14)\n",
    "plt.show()\n",
    "plt.savefig('sales for months.png', dpi=300)"
   ]
  },
  {
   "cell_type": "code",
   "execution_count": null,
   "id": "3a9b6f02",
   "metadata": {},
   "outputs": [],
   "source": [
    "# Question 2: What city had the maximum sales\n",
    "cities = [city for city, df in data.groupby(['City'])]\n",
    "city_sales_sum = data.groupby('City').sum()['Sales']\n",
    "\n",
    "plt.bar(cities, city_sales_sum, color=new_colors, width=0.8, edgecolor='black')\n",
    "plt.title('Graph for the sales done in different cities in 2019', size=14)\n",
    "plt.xticks(cities, rotation='vertical', size=8)\n",
    "plt.xlabel('City Name', size=14)\n",
    "plt.ylabel('Sales amount in millions(USD $)', size=14)\n",
    "plt.show()\n"
   ]
  },
  {
   "cell_type": "code",
   "execution_count": null,
   "id": "d1a61956",
   "metadata": {},
   "outputs": [],
   "source": [
    "# Question 3: What time were the maximum orders made\n",
    "hours = [hour for hour, df in data.groupby(['Hour'])]\n",
    "hour_sale_sum = data.groupby('Hour').sum()['Sales']\n",
    "\n",
    "plt.bar(hours, hour_sale_sum, color=new_colors, width=0.8, edgecolor='black')\n",
    "plt.title('Graph for the overall sales done in different hours in 2019', size=14)\n",
    "plt.xticks(hours, rotation='vertical', size=8)\n",
    "plt.xlabel('Clock Hours', size=14)\n",
    "plt.ylabel('Sales amount in millions(USD $)', size=14)\n",
    "plt.show()"
   ]
  },
  {
   "cell_type": "code",
   "execution_count": null,
   "id": "0379b95b",
   "metadata": {},
   "outputs": [],
   "source": [
    "# Question 4: What products are most often sold together?\n",
    "df = data[data['Order ID'].duplicated(keep=False)]\n",
    "df['Grouped'] = df.groupby('Order ID')['Product'].transform(lambda x: ','.join(x))\n",
    "df2 = df[['Order ID', 'Grouped']].drop_duplicates()\n",
    "count = Counter()\n",
    "\n",
    "for row in df2['Grouped']:\n",
    "    row_list = row.split(',')\n",
    "    count.update(Counter(combinations(row_list, 2)))\n",
    "\n",
    "for key, value in count.most_common(10):\n",
    "    print(key, value)\n"
   ]
  },
  {
   "cell_type": "markdown",
   "id": "ef7df793",
   "metadata": {},
   "source": [
    "# Save the updated and modified dataset"
   ]
  },
  {
   "cell_type": "code",
   "execution_count": 26,
   "id": "f7e2a141",
   "metadata": {},
   "outputs": [],
   "source": [
    "data.to_csv('Updated yearly_data_2019.csv', index = False, encoding='utf-8')"
   ]
  }
 ],
 "metadata": {
  "kernelspec": {
   "display_name": "Python 3 (ipykernel)",
   "language": "python",
   "name": "python3"
  },
  "language_info": {
   "codemirror_mode": {
    "name": "ipython",
    "version": 3
   },
   "file_extension": ".py",
   "mimetype": "text/x-python",
   "name": "python",
   "nbconvert_exporter": "python",
   "pygments_lexer": "ipython3",
   "version": "3.7.8"
  }
 },
 "nbformat": 4,
 "nbformat_minor": 5
}
